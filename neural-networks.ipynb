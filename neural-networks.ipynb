{
 "cells": [
  {
   "cell_type": "code",
   "execution_count": 7,
   "metadata": {},
   "outputs": [
    {
     "name": "stdout",
     "output_type": "stream",
     "text": [
      "['alcohol', 'malic_acid', 'ash', 'alcalinity_of_ash', 'magnesium', 'total_phenols', 'flavanoids', 'nonflavanoid_phenols', 'proanthocyanins', 'color_intensity', 'hue', 'od280/od315_of_diluted_wines', 'proline']\n"
     ]
    },
    {
     "data": {
      "text/html": [
       "<div>\n",
       "<style scoped>\n",
       "    .dataframe tbody tr th:only-of-type {\n",
       "        vertical-align: middle;\n",
       "    }\n",
       "\n",
       "    .dataframe tbody tr th {\n",
       "        vertical-align: top;\n",
       "    }\n",
       "\n",
       "    .dataframe thead th {\n",
       "        text-align: right;\n",
       "    }\n",
       "</style>\n",
       "<table border=\"1\" class=\"dataframe\">\n",
       "  <thead>\n",
       "    <tr style=\"text-align: right;\">\n",
       "      <th></th>\n",
       "      <th>malic_acid</th>\n",
       "      <th>ash</th>\n",
       "      <th>alcalinity_of_ash</th>\n",
       "      <th>magnesium</th>\n",
       "      <th>total_phenols</th>\n",
       "      <th>flavanoids</th>\n",
       "      <th>nonflavanoid_phenols</th>\n",
       "      <th>proanthocyanins</th>\n",
       "      <th>color_intensity</th>\n",
       "      <th>hue</th>\n",
       "      <th>od280/od315_of_diluted_wines</th>\n",
       "      <th>proline</th>\n",
       "    </tr>\n",
       "  </thead>\n",
       "  <tbody>\n",
       "    <tr>\n",
       "      <th>0</th>\n",
       "      <td>1.71</td>\n",
       "      <td>2.43</td>\n",
       "      <td>15.6</td>\n",
       "      <td>127.0</td>\n",
       "      <td>2.80</td>\n",
       "      <td>3.06</td>\n",
       "      <td>0.28</td>\n",
       "      <td>2.29</td>\n",
       "      <td>5.64</td>\n",
       "      <td>1.04</td>\n",
       "      <td>3.92</td>\n",
       "      <td>1065.0</td>\n",
       "    </tr>\n",
       "    <tr>\n",
       "      <th>1</th>\n",
       "      <td>1.78</td>\n",
       "      <td>2.14</td>\n",
       "      <td>11.2</td>\n",
       "      <td>100.0</td>\n",
       "      <td>2.65</td>\n",
       "      <td>2.76</td>\n",
       "      <td>0.26</td>\n",
       "      <td>1.28</td>\n",
       "      <td>4.38</td>\n",
       "      <td>1.05</td>\n",
       "      <td>3.40</td>\n",
       "      <td>1050.0</td>\n",
       "    </tr>\n",
       "    <tr>\n",
       "      <th>2</th>\n",
       "      <td>2.36</td>\n",
       "      <td>2.67</td>\n",
       "      <td>18.6</td>\n",
       "      <td>101.0</td>\n",
       "      <td>2.80</td>\n",
       "      <td>3.24</td>\n",
       "      <td>0.30</td>\n",
       "      <td>2.81</td>\n",
       "      <td>5.68</td>\n",
       "      <td>1.03</td>\n",
       "      <td>3.17</td>\n",
       "      <td>1185.0</td>\n",
       "    </tr>\n",
       "    <tr>\n",
       "      <th>3</th>\n",
       "      <td>1.95</td>\n",
       "      <td>2.50</td>\n",
       "      <td>16.8</td>\n",
       "      <td>113.0</td>\n",
       "      <td>3.85</td>\n",
       "      <td>3.49</td>\n",
       "      <td>0.24</td>\n",
       "      <td>2.18</td>\n",
       "      <td>7.80</td>\n",
       "      <td>0.86</td>\n",
       "      <td>3.45</td>\n",
       "      <td>1480.0</td>\n",
       "    </tr>\n",
       "    <tr>\n",
       "      <th>4</th>\n",
       "      <td>2.59</td>\n",
       "      <td>2.87</td>\n",
       "      <td>21.0</td>\n",
       "      <td>118.0</td>\n",
       "      <td>2.80</td>\n",
       "      <td>2.69</td>\n",
       "      <td>0.39</td>\n",
       "      <td>1.82</td>\n",
       "      <td>4.32</td>\n",
       "      <td>1.04</td>\n",
       "      <td>2.93</td>\n",
       "      <td>735.0</td>\n",
       "    </tr>\n",
       "  </tbody>\n",
       "</table>\n",
       "</div>"
      ],
      "text/plain": [
       "   malic_acid   ash  alcalinity_of_ash  magnesium  total_phenols  flavanoids  \\\n",
       "0        1.71  2.43               15.6      127.0           2.80        3.06   \n",
       "1        1.78  2.14               11.2      100.0           2.65        2.76   \n",
       "2        2.36  2.67               18.6      101.0           2.80        3.24   \n",
       "3        1.95  2.50               16.8      113.0           3.85        3.49   \n",
       "4        2.59  2.87               21.0      118.0           2.80        2.69   \n",
       "\n",
       "   nonflavanoid_phenols  proanthocyanins  color_intensity   hue  \\\n",
       "0                  0.28             2.29             5.64  1.04   \n",
       "1                  0.26             1.28             4.38  1.05   \n",
       "2                  0.30             2.81             5.68  1.03   \n",
       "3                  0.24             2.18             7.80  0.86   \n",
       "4                  0.39             1.82             4.32  1.04   \n",
       "\n",
       "   od280/od315_of_diluted_wines  proline  \n",
       "0                          3.92   1065.0  \n",
       "1                          3.40   1050.0  \n",
       "2                          3.17   1185.0  \n",
       "3                          3.45   1480.0  \n",
       "4                          2.93    735.0  "
      ]
     },
     "execution_count": 7,
     "metadata": {},
     "output_type": "execute_result"
    }
   ],
   "source": [
    "from sklearn.datasets import load_wine\n",
    "from sklearn.model_selection import train_test_split\n",
    "import pandas as pd\n",
    "import torch\n",
    "\n",
    "data = load_wine()\n",
    "X = data.data\n",
    "\n",
    "print(data.feature_names)\n",
    "\n",
    "df = pd.DataFrame(X, columns=data.feature_names)\n",
    "df.head()\n",
    "\n",
    "y = df['alcohol']\n",
    "df = df.drop('alcohol', axis=1)\n",
    "df.head()"
   ]
  },
  {
   "cell_type": "code",
   "execution_count": 8,
   "metadata": {},
   "outputs": [],
   "source": [
    "X_train, X_test, y_train, y_test = train_test_split(df, y, test_size=0.2, random_state=42)"
   ]
  },
  {
   "cell_type": "code",
   "execution_count": 9,
   "metadata": {},
   "outputs": [],
   "source": [
    "X_train = torch.tensor(X_train.values)\n",
    "X_test = torch.tensor(X_test.values)\n",
    "y_train = torch.tensor(y_train.values)\n",
    "y_test = torch.tensor(y_test.values)"
   ]
  },
  {
   "cell_type": "code",
   "execution_count": 10,
   "metadata": {},
   "outputs": [
    {
     "data": {
      "text/plain": [
       "torch.Size([142, 12])"
      ]
     },
     "execution_count": 10,
     "metadata": {},
     "output_type": "execute_result"
    }
   ],
   "source": [
    "X_train.shape"
   ]
  },
  {
   "attachments": {},
   "cell_type": "markdown",
   "metadata": {},
   "source": [
    "# Neuronale Netzarchitektur\n",
    "\n",
    "* Wir haben 12 Attribute / Spalten / Features\n",
    "* Wir haben 142 Traingsbeispiele\n",
    "\n",
    "Angenommen, ein HiddenLayer mit 100 Neuronen\n",
    "\n",
    "* w1: von 12 auf 100\n",
    "* w2: von 100 auf 1"
   ]
  },
  {
   "cell_type": "code",
   "execution_count": 11,
   "metadata": {},
   "outputs": [],
   "source": [
    "# scaling the data\n",
    "X_train = X_train.float()\n",
    "X_test = X_test.float()\n",
    "y_train = y_train.float()\n",
    "y_test = y_test.float()"
   ]
  },
  {
   "cell_type": "code",
   "execution_count": 13,
   "metadata": {},
   "outputs": [],
   "source": [
    "# creating the model\n",
    "lr = 0.01\n",
    "losses = []\n",
    "epochs = 100\n",
    "\n",
    "X = X_train\n",
    "y = y_train\n",
    "\n",
    "# initializing the weights and bias\n",
    "w1 = torch.normal(size=(12, 100), std=1, mean=0, requires_grad=True) # 12 features, 100 neurons\n",
    "b1 = torch.tensor(1.0, requires_grad=True) # 1 bias\n",
    "\n",
    "w2 = torch.normal(size=(100, 1), std=1, mean=0, requires_grad=True) # 100 neurons, 1 output\n",
    "b2 = torch.tensor(1.0, requires_grad=True) # 1 bias"
   ]
  },
  {
   "cell_type": "code",
   "execution_count": 14,
   "metadata": {},
   "outputs": [
    {
     "name": "stderr",
     "output_type": "stream",
     "text": [
      "  0%|          | 0/100 [00:00<?, ?it/s]\n"
     ]
    },
    {
     "ename": "UnboundLocalError",
     "evalue": "local variable 'w1' referenced before assignment",
     "output_type": "error",
     "traceback": [
      "\u001b[0;31m---------------------------------------------------------------------------\u001b[0m",
      "\u001b[0;31mUnboundLocalError\u001b[0m                         Traceback (most recent call last)",
      "Cell \u001b[0;32mIn[14], line 33\u001b[0m\n\u001b[1;32m     31\u001b[0m lossesSum \u001b[39m=\u001b[39m \u001b[39m0\u001b[39m\n\u001b[1;32m     32\u001b[0m \u001b[39mfor\u001b[39;00m single_x, single_y \u001b[39min\u001b[39;00m \u001b[39mzip\u001b[39m(X, y):\n\u001b[0;32m---> 33\u001b[0m     lossesSum \u001b[39m+\u001b[39m\u001b[39m=\u001b[39m train(single_x, single_y)\n\u001b[1;32m     34\u001b[0m losses\u001b[39m.\u001b[39mappend(lossesSum\u001b[39m/\u001b[39m\u001b[39mlen\u001b[39m(X))\n\u001b[1;32m     35\u001b[0m \u001b[39mif\u001b[39;00m \u001b[39mlen\u001b[39m(losses) \u001b[39m>\u001b[39m \u001b[39m2\u001b[39m \u001b[39mand\u001b[39;00m losses[\u001b[39m-\u001b[39m\u001b[39m1\u001b[39m] \u001b[39m>\u001b[39m losses[\u001b[39m-\u001b[39m\u001b[39m2\u001b[39m]:\n",
      "Cell \u001b[0;32mIn[14], line 3\u001b[0m, in \u001b[0;36mtrain\u001b[0;34m(single_x, single_y)\u001b[0m\n\u001b[1;32m      1\u001b[0m \u001b[39mdef\u001b[39;00m \u001b[39mtrain\u001b[39m(single_x, single_y):\n\u001b[1;32m      2\u001b[0m     \u001b[39m# forward pass\u001b[39;00m\n\u001b[0;32m----> 3\u001b[0m     z2 \u001b[39m=\u001b[39m single_x \u001b[39m@\u001b[39m w1 \u001b[39m+\u001b[39m b1\n\u001b[1;32m      4\u001b[0m     a2 \u001b[39m=\u001b[39m torch\u001b[39m.\u001b[39mrelu(z2)\n\u001b[1;32m      5\u001b[0m     z3 \u001b[39m=\u001b[39m a2 \u001b[39m@\u001b[39m w2 \u001b[39m+\u001b[39m b2\n",
      "\u001b[0;31mUnboundLocalError\u001b[0m: local variable 'w1' referenced before assignment"
     ]
    }
   ],
   "source": [
    "\n",
    "\n",
    "def train(single_x, single_y):\n",
    "    # forward pass\n",
    "    z2 = single_x @ w1 + b1\n",
    "    a2 = torch.relu(z2)\n",
    "    z3 = a2 @ w2 + b2\n",
    "    y_hat = torch.relu(z3)\n",
    "\n",
    "    # calculating the loss\n",
    "    loss = (single_y-y_hat)**2\n",
    "\n",
    "    # backward pass\n",
    "    loss.backward()\n",
    "\n",
    "    # updating the weights and bias\n",
    "    with torch.no_grad():\n",
    "        w1 -= lr * w1.grad\n",
    "        b1 -= lr * b1.grad\n",
    "        w2 -= lr * w2.grad\n",
    "        b2 -= lr * b2.grad\n",
    "\n",
    "        w1.grad.zero_()\n",
    "        b1.grad.zero_()\n",
    "        w2.grad.zero_()\n",
    "        b2.grad.zero_()\n",
    "\n",
    "    return loss\n",
    "\n",
    "from tqdm import tqdm\n",
    "\n",
    "for epoch in tqdm(range(epochs)):\n",
    "    lossesSum = 0\n",
    "    for single_x, single_y in zip(X, y):\n",
    "        lossesSum += train(single_x, single_y)\n",
    "    losses.append(lossesSum/len(X))\n",
    "    if len(losses) > 2 and losses[-1] > losses[-2]:\n",
    "        break\n",
    "    if torch.sum(w1) == 0 or torch.sum(w2) == 0:\n",
    "        break\n",
    "\n",
    "import matplotlib.pyplot as plt\n",
    "\n",
    "plt.plot(losses)"
   ]
  },
  {
   "cell_type": "code",
   "execution_count": 15,
   "metadata": {},
   "outputs": [
    {
     "data": {
      "text/plain": [
       "tensor([[-0.8855, -0.6057,  0.5473,  ...,  0.2874,  0.3535,  1.1763],\n",
       "        [-0.5562, -1.0874,  0.0636,  ...,  1.5780, -0.0496,  0.3055],\n",
       "        [-0.5475,  0.7025, -2.1277,  ...,  1.5865,  0.7488, -0.2740],\n",
       "        ...,\n",
       "        [ 0.2688,  0.3953, -0.2260,  ..., -3.1643, -1.1194,  1.1269],\n",
       "        [ 0.0242, -0.9976, -0.8171,  ...,  0.5738,  0.3219, -0.7670],\n",
       "        [-0.5758,  1.3587,  1.9837,  ...,  0.9194, -1.3842,  0.4010]],\n",
       "       requires_grad=True)"
      ]
     },
     "execution_count": 15,
     "metadata": {},
     "output_type": "execute_result"
    }
   ],
   "source": [
    "w1"
   ]
  },
  {
   "cell_type": "code",
   "execution_count": 16,
   "metadata": {},
   "outputs": [],
   "source": [
    "single_x = X_test[0]\n",
    "z2 = single_x @ w1 + b1"
   ]
  },
  {
   "cell_type": "code",
   "execution_count": 17,
   "metadata": {},
   "outputs": [
    {
     "data": {
      "text/plain": [
       "tensor([ -442.5692,  1153.7201,  1764.9165,   755.8215,  1354.5923, -1436.0560,\n",
       "        -1692.8647,    40.4034, -1857.6515,  -134.6633, -1311.7625, -1984.0797,\n",
       "          166.7047, -1793.3156,  1678.4268,    40.1197,   663.0154,   831.0491,\n",
       "         1070.2036,   130.4381,   727.6436,   159.1927,  -653.8372,   837.2643,\n",
       "         -687.4496,  -146.0394,  -554.1072,  -101.4203, -1237.5100,  -747.0682,\n",
       "           55.4925,   731.7524, -1032.7566,   269.0438,  -622.1618,  -435.1540,\n",
       "         -198.0020,  -686.1747,  -732.3129,   -96.6018,  -339.6108,   996.5349,\n",
       "         -286.2181,  1758.3984,  1261.0315,  -186.1330,    72.3644,   334.1699,\n",
       "          984.6340,   608.5522,  -429.4486,  -309.5009,  1023.3293, -1371.1216,\n",
       "         -181.1306,  -832.6940,  -882.9839,   828.4915,   128.0011,  1229.1248,\n",
       "        -1170.8733,  -859.3722,   218.0862,   672.7506,  -372.7230,  -405.3913,\n",
       "         1462.0317,  -496.1927,   861.2671,  -748.1891,  -194.3233,  1791.5846,\n",
       "         -692.9407,  1083.3510,   548.3196,   939.4875,  2011.5297,   264.9305,\n",
       "        -1757.1603,  -403.2158,  -292.1446,   581.0723,  1676.6479,  1081.5936,\n",
       "         -903.3893,  -681.2108,   237.8221,  -297.4369,  1087.2371,     3.9645,\n",
       "         1228.8900,  1281.5142,   937.2693, -1620.1836,   568.1285,  -394.2974,\n",
       "          320.8019,   771.5493, -1149.9873,   462.4566],\n",
       "       grad_fn=<AddBackward0>)"
      ]
     },
     "execution_count": 17,
     "metadata": {},
     "output_type": "execute_result"
    }
   ],
   "source": [
    "z2"
   ]
  },
  {
   "cell_type": "code",
   "execution_count": null,
   "metadata": {},
   "outputs": [],
   "source": []
  }
 ],
 "metadata": {
  "kernelspec": {
   "display_name": "Python 3",
   "language": "python",
   "name": "python3"
  },
  "language_info": {
   "codemirror_mode": {
    "name": "ipython",
    "version": 3
   },
   "file_extension": ".py",
   "mimetype": "text/x-python",
   "name": "python",
   "nbconvert_exporter": "python",
   "pygments_lexer": "ipython3",
   "version": "3.10.7"
  },
  "orig_nbformat": 4,
  "vscode": {
   "interpreter": {
    "hash": "b0fa6594d8f4cbf19f97940f81e996739fb7646882a419484c72d19e05852a7e"
   }
  }
 },
 "nbformat": 4,
 "nbformat_minor": 2
}
